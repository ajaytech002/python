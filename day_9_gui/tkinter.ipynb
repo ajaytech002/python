{
 "cells": [
  {
   "cell_type": "markdown",
   "metadata": {},
   "source": [
    "Notebook is copyright &copy; of <a href=\"https://ajaytech.co\">Ajay Tech </a>."
   ]
  },
  {
   "cell_type": "markdown",
   "metadata": {},
   "source": [
    "# Tkinter for Python GUI"
   ]
  },
  {
   "cell_type": "markdown",
   "metadata": {},
   "source": [
    "### Table of Contents"
   ]
  },
  {
   "cell_type": "markdown",
   "metadata": {},
   "source": [
    "- [Introduction](#Introduction)\n",
    "- [Contact Us Form v1](#Contact-Us-Form-v1)\n",
    "- [Contact Us Form v2](#Contact-Us-Form-v2)\n",
    "- [Contact Us Form v3](#Contact-Us-Form-v3)\n",
    "- [Contact Us Form v4](#Contact-Us-Form-v4)\n",
    "- [Weather App](#Weather-App)\n",
    "- Challenges\n",
    "    - [Stock Quote App](#Stock-Quote-App)"
   ]
  },
  {
   "cell_type": "markdown",
   "metadata": {},
   "source": [
    "<hr>"
   ]
  },
  {
   "cell_type": "markdown",
   "metadata": {},
   "source": [
    "### Introduction"
   ]
  },
  {
   "cell_type": "markdown",
   "metadata": {},
   "source": [
    "Tkinter is a built-in module in standard python to create Graphical user interfaces across all platforms (Windows, Mac, Linux). Since it is built into the standard Python offering, it is used quite a lot. The name Tkinter is derived from **Tk** which is the GUI part of the **Tcl/Tk** programming language. \n",
    "\n",
    "GUI Programming is generally exhaustive in nature (Web GUIs or Java Swing etc) and require lots of code. However, the fundamental featues remain the same\n",
    "\n",
    "- Functions to create each of the GUI elements, like\n",
    "  - Windows\n",
    "  - text boxes\n",
    "  - radio buttons\n",
    "  - lists etc\n",
    "- Stylize these elements\n",
    "- Hook user interactive elements like buttons etc to callback functions to act upon these\n",
    "- Hook user interactive elements like text boxes etc to callback variables to capture user input\n",
    "- Arrange GUI elements in sequence etc\n",
    "\n",
    "Instead of learning all of these individually, we will go in a non-linear fashion by working on simple examples. Each example will teach you something unique that you can apply in all the subsequent examples. We will try to keep the examples as realistic and relatable as possible. This way, you will find the learning to be much easier than just dry examples of each Tkinter element. \n",
    "\n",
    "Keeping in line with our learning methodology, this Tkinter tutorial is just a primer on Tkinter. We will not be exploring all the possible options in Tkinter. Rather, we will follow the 80:20 rule - 80% of the functionality that is practically used will be available with 20% of the features. So, we will focus just on the 20% of the features that will make you get up and running fast with minimal friction. Let's get started."
   ]
  },
  {
   "cell_type": "markdown",
   "metadata": {},
   "source": [
    "<hr>"
   ]
  },
  {
   "cell_type": "markdown",
   "metadata": {},
   "source": [
    "### Contact Us Form v1"
   ]
  },
  {
   "cell_type": "markdown",
   "metadata": {},
   "source": [
    "Let's create a simple \"Contact Us\" form that will take the user's name and email and let the user submit it. We will capture the values in the elements behind the scenes and print it out on the console. The form will look something like this.\n",
    "\n",
    "<img src=\"./pics/form-2.png\"/>\n",
    "\n",
    "Let's build it step by step."
   ]
  },
  {
   "cell_type": "code",
   "execution_count": 2,
   "metadata": {},
   "outputs": [],
   "source": [
    "from tkinter import *\n",
    "# or\n",
    "# import tkinter as tk"
   ]
  },
  {
   "cell_type": "code",
   "execution_count": 7,
   "metadata": {},
   "outputs": [],
   "source": [
    "# The most fundamental element in any GUI program is the main window. \n",
    "window = Tk()\n",
    "\n",
    "window.mainloop()"
   ]
  },
  {
   "cell_type": "markdown",
   "metadata": {},
   "source": [
    "A blank window like this shows up. Only the following basic functionality is provided as part of the blank window. \n",
    "\n",
    "- Minimize & Maximize window size\n",
    "- Resize & close window\n",
    "\n",
    "<img src=\"./pics/blank-tk-window.png\"/>"
   ]
  },
  {
   "cell_type": "markdown",
   "metadata": {},
   "source": [
    "The **.mainloop ( )** is the last piece of code that should be executed. It ensures that the window stays there waiting for your interaction. If not, the window gets rendered and closes. Now, let's give it a title. "
   ]
  },
  {
   "cell_type": "code",
   "execution_count": 8,
   "metadata": {},
   "outputs": [],
   "source": [
    "window = Tk()\n",
    "\n",
    "window.title(\"Contact Us form\")\n",
    "window.mainloop()"
   ]
  },
  {
   "cell_type": "markdown",
   "metadata": {},
   "source": [
    "<img src=\"./pics/window-title.png\"/>"
   ]
  },
  {
   "cell_type": "markdown",
   "metadata": {},
   "source": [
    "Before we start putting in the input elements, let's just put a text as instructions for the user to add their contact information."
   ]
  },
  {
   "cell_type": "code",
   "execution_count": 10,
   "metadata": {},
   "outputs": [],
   "source": [
    "window = Tk()\n",
    "window.title(\"Contact Us form\")\n",
    "info = Label(window, text = \"Enter your Contact info and we will get back to you\")\n",
    "info.pack()\n",
    "\n",
    "window.mainloop()"
   ]
  },
  {
   "cell_type": "markdown",
   "metadata": {},
   "source": [
    "<img src=\"./pics/label.png\"/>"
   ]
  },
  {
   "cell_type": "markdown",
   "metadata": {},
   "source": [
    "The default size of the window is a bit wierd, but we will fix it later. Let's first enter the input elements"
   ]
  },
  {
   "cell_type": "code",
   "execution_count": 11,
   "metadata": {},
   "outputs": [],
   "source": [
    "window = Tk()\n",
    "window.title(\"Contact Us form\")\n",
    "\n",
    "info = Label(window, text = \"Enter your Contact info and we will get back to you\")\n",
    "info.pack()\n",
    "\n",
    "name_label = Label(window, text = \"Name\", anchor=\"w\")\n",
    "name       = Entry(window)\n",
    "\n",
    "email_label = Label(window, text = \"Email\")\n",
    "email       = Entry(window)\n",
    "\n",
    "name_label.pack()\n",
    "name.pack()\n",
    "email_label.pack()\n",
    "email.pack()\n",
    "window.mainloop()"
   ]
  },
  {
   "cell_type": "markdown",
   "metadata": {},
   "source": [
    "<img src=\"./pics/form-1.png\"/>"
   ]
  },
  {
   "cell_type": "markdown",
   "metadata": {},
   "source": [
    "To get an input field (to take input from the user), use the **Entry ( )** function. We will see how to get the user entered values in just a bit. But before we do that, let's place the submit button. "
   ]
  },
  {
   "cell_type": "code",
   "execution_count": 12,
   "metadata": {},
   "outputs": [],
   "source": [
    "window = Tk()\n",
    "window.title(\"Contact Us form\")\n",
    "\n",
    "info = Label(window, text = \"Enter your Contact info and we will get back to you\")\n",
    "info.pack()\n",
    "\n",
    "name_label = Label(window, text = \"Name\", anchor=\"w\")\n",
    "name       = Entry(window)\n",
    "\n",
    "email_label = Label(window, text = \"Email\")\n",
    "email       = Entry(window)\n",
    "\n",
    "submit_button = Button(window, text=\"Submit\")\n",
    "\n",
    "name_label.pack()\n",
    "name.pack()\n",
    "email_label.pack()\n",
    "email.pack()\n",
    "submit_button.pack()\n",
    "window.mainloop()"
   ]
  },
  {
   "cell_type": "markdown",
   "metadata": {},
   "source": [
    "<img src=\"./pics/form-2.png\"/>"
   ]
  },
  {
   "cell_type": "markdown",
   "metadata": {},
   "source": [
    "There we go, we have the GUI for the Contact Us form ready. Now, we need to add functionality. Let's start with the submit button. We should be able to define a call back function when the user clicks on the submit button. In Tkinter, callbacks are defined using the **command** option."
   ]
  },
  {
   "cell_type": "code",
   "execution_count": 14,
   "metadata": {},
   "outputs": [],
   "source": [
    "window = Tk()\n",
    "window.title(\"Contact Us form\")\n",
    "\n",
    "info = Label(window, text = \"Enter your Contact info and we will get back to you\")\n",
    "info.pack()\n",
    "\n",
    "name_label = Label(window, text = \"Name\", anchor=\"w\")\n",
    "name       = Entry(window)\n",
    "\n",
    "email_label = Label(window, text = \"Email\")\n",
    "email       = Entry(window)\n",
    "\n",
    "##########################################\n",
    "def submitClicked () :\n",
    "    print (\"Submit Clicked\")\n",
    "##########################################\n",
    "    \n",
    "submit_button = Button(window, text=\"Submit\", command=submitClicked)\n",
    "\n",
    "name_label.pack()\n",
    "name.pack()\n",
    "email_label.pack()\n",
    "email.pack()\n",
    "submit_button.pack()\n",
    "window.mainloop()"
   ]
  },
  {
   "cell_type": "markdown",
   "metadata": {},
   "source": [
    "If you click on the submit button, you should be able to see the text printed on the console. But that's not enough for us in this case. We need to be able to extract the info from the text fields and do something with it. Typically, they are stored in the database. However, just to keep things simple, let's print them out on the console. Since the text in these entry boxes are based on user inputs, we have to use special variables (Variable classes) that are Tkinter specific. These variables are like automatic callbacks. As soon as the user enters data into these GUI elements (text boxes in our case), Tkinter will automatically populate these variables with the actual text the user has entered. Let's see how."
   ]
  },
  {
   "cell_type": "code",
   "execution_count": 17,
   "metadata": {},
   "outputs": [],
   "source": [
    "window = Tk()\n",
    "window.title(\"Contact Us form\")\n",
    "\n",
    "\n",
    "info = Label(window, text = \"Enter your Contact info and we will get back to you\")\n",
    "info.pack()\n",
    "\n",
    "name_label = Label(window, text = \"Name\", anchor=\"w\")\n",
    "nameString = ()   # Define a new StringVar to hold name\n",
    "# Set it as a textvariable param of the Entry function\n",
    "name       = Entry(window, textvariable = nameString)\n",
    "\n",
    "email_label = Label(window, text = \"Email\")\n",
    "emailString = StringVar()  # Define a new StringVar to hold email \n",
    "# Set it as a textvariable param of the Entry function\n",
    "email       = Entry(window, textvariable = emailString)\n",
    "\n",
    "##########################################\n",
    "def submitClicked () :\n",
    "    print (\"name = \",nameString.get())\n",
    "    print (\"email = \", emailString.get())\n",
    "##########################################\n",
    "    \n",
    "submit_button = Button(window, text=\"Submit\", command=submitClicked)\n",
    "\n",
    "name_label.pack()\n",
    "name.pack()\n",
    "email_label.pack()\n",
    "email.pack()\n",
    "submit_button.pack()\n",
    "window.mainloop()"
   ]
  },
  {
   "cell_type": "markdown",
   "metadata": {},
   "source": [
    "Now, you should be able to access the user entered data in the contact form in the callback function for the submit button. Once you get the data, you can do anything with the data - like submit it to the database, write it over the network etc. We are not going to focus on the data persistence part in this Tkinter series."
   ]
  },
  {
   "cell_type": "markdown",
   "metadata": {},
   "source": [
    "**Learning**\n",
    "- How to create the main window using the **Tk( )** function\n",
    "- How to set a title to the window using the **title( )** function\n",
    "- How to let the window remain infinitely and wait for user input using the **mainloop( )** function\n",
    "- How to create text labels using the **Label( )** function\n",
    "- How to create text boxes for user input using the **Entry( )** function\n",
    "- How to use the **pack( )** function to place the GUI elements on the window.\n",
    "- How to create buttons using the **Button( )** function and hook it to an event handler function using the **command** option of the Button() function.\n",
    "- How to use **StringVar( )** function to set callbacks for user interacting GUI elements like text boxes to get the user entered input into a python variable. For example, to set a callback for Entry () text boxes, we used the **textvariable** option. Use the get() function on that variable anywhere in the code to get the actual value of the user input."
   ]
  },
  {
   "cell_type": "markdown",
   "metadata": {},
   "source": [
    "<hr>"
   ]
  },
  {
   "cell_type": "markdown",
   "metadata": {},
   "source": [
    "### Contact Us Form v1"
   ]
  },
  {
   "cell_type": "markdown",
   "metadata": {},
   "source": [
    "In this section, we will format the Contact Us form that we have previously created using the **grid ( )** functionality ( as poosed to pack() ) and use padding (**padx( )** and **pady( )**) to create some space between the form elements. Visually, this is what we are going to do."
   ]
  },
  {
   "cell_type": "markdown",
   "metadata": {},
   "source": [
    "<img src=\"./pics/format-form.png\"/>"
   ]
  },
  {
   "cell_type": "markdown",
   "metadata": {},
   "source": [
    "The way we were placing GUI elements on the form was using the **pack( )** function. It has some limitations though. So, a more flexible way of placing GUI elements on the form is using the **grid ( )** function. Let's try the form again using the grid () function. The grid is exactly what the word says it is. A grid on the GUI window. The elements can be placed one after the other in a row and column format. "
   ]
  },
  {
   "cell_type": "markdown",
   "metadata": {},
   "source": [
    "<img src=\"./pics/grid-example-1.png\"/>"
   ]
  },
  {
   "cell_type": "markdown",
   "metadata": {},
   "source": [
    "For example, let's redo the same contact form using the grid layout now. The key parametes for the **grid( )** function are\n",
    "\n",
    "- row\n",
    "- column\n",
    "- columnspan\n",
    "\n",
    "rows and columns should be pretty self explanatory. Let's try it now."
   ]
  },
  {
   "cell_type": "code",
   "execution_count": 29,
   "metadata": {},
   "outputs": [],
   "source": [
    "window = Tk()\n",
    "window.title(\"Contact Us form\")\n",
    "\n",
    "\n",
    "info = Label(window, text = \"Enter your Contact info and we will get back to you\")\n",
    "info.grid(row=0)\n",
    "\n",
    "name_label = Label(window, text = \"Name\", anchor=\"w\")\n",
    "nameString = StringVar()   # Define a new StringVar to hold name\n",
    "# Set it as a textvariable param of the Entry function\n",
    "name       = Entry(window, textvariable = nameString)\n",
    "\n",
    "email_label = Label(window, text = \"Email\")\n",
    "emailString = StringVar()  # Define a new StringVar to hold email \n",
    "# Set it as a textvariable param of the Entry function\n",
    "email       = Entry(window, textvariable = emailString)\n",
    "\n",
    "##########################################\n",
    "def submitClicked () :\n",
    "    print (\"name = \",nameString.get())\n",
    "    print (\"email = \", emailString.get())\n",
    "##########################################\n",
    "    \n",
    "submit_button = Button(window, text=\"Submit\", command=submitClicked)\n",
    "\n",
    "name_label.grid(row=1, column=0)\n",
    "name.grid(row=1, column=1)\n",
    "email_label.grid(row=2, column=0)\n",
    "email.grid(row=2, column=1)\n",
    "submit_button.grid(row=3)\n",
    "window.mainloop()"
   ]
  },
  {
   "cell_type": "markdown",
   "metadata": {},
   "source": [
    "<img src=\"./pics/form-grid.png\"/>"
   ]
  },
  {
   "cell_type": "markdown",
   "metadata": {},
   "source": [
    "Although we got some stuff sorted out, still the form is off. To understand that, let's understand how the grid is drawing these elements."
   ]
  },
  {
   "cell_type": "markdown",
   "metadata": {},
   "source": [
    "<img src=\"./pics/rows-columns.png\"/>\""
   ]
  },
  {
   "cell_type": "markdown",
   "metadata": {},
   "source": [
    "The reason why the form is a bit streched is because, Row 0, Column 0 (The text that says \"Ente your contact...\") is taking all of column 0 and the remaining rows also have the same width. To counter this, we can expand the text to occupy 2 columns. That way, the form wont appear streched like it is right now. To do that we use the **columnspan** option. "
   ]
  },
  {
   "cell_type": "code",
   "execution_count": null,
   "metadata": {},
   "outputs": [],
   "source": [
    "window = Tk()\n",
    "window.title(\"Contact Us form\")\n",
    "\n",
    "\n",
    "info = Label(window, text = \"Enter your Contact info and we will get back to you\")\n",
    "info.grid(row=0,columnspan=2)\n",
    "\n",
    "name_label = Label(window, text = \"Name\", anchor=\"w\")\n",
    "nameString = StringVar()   # Define a new StringVar to hold name\n",
    "# Set it as a textvariable param of the Entry function\n",
    "name       = Entry(window, textvariable = nameString)\n",
    "\n",
    "email_label = Label(window, text = \"Email\")\n",
    "emailString = StringVar()  # Define a new StringVar to hold email \n",
    "# Set it as a textvariable param of the Entry function\n",
    "email       = Entry(window, textvariable = emailString)\n",
    "\n",
    "##########################################\n",
    "def submitClicked () :\n",
    "    print (\"name = \",nameString.get())\n",
    "    print (\"email = \", emailString.get())\n",
    "##########################################\n",
    "    \n",
    "submit_button = Button(window, text=\"Submit\", command=submitClicked)\n",
    "\n",
    "name_label.grid(row=1, column=0)\n",
    "name.grid(row=1, column=1)\n",
    "email_label.grid(row=2, column=0)\n",
    "email.grid(row=2, column=1)\n",
    "submit_button.grid(row=3)\n",
    "window.mainloop()"
   ]
  },
  {
   "cell_type": "markdown",
   "metadata": {},
   "source": [
    "<img src=\"./pics/columnspan-fix.png\"/>"
   ]
  },
  {
   "cell_type": "markdown",
   "metadata": {},
   "source": [
    "This appears much better isn't it. The submit button is also not centered. Let's fix that as well. Also, the elements in the form are very close to each other. Let's put some padding so that the form appears a bit free. To do padding, we use the **padx** and **pady** parameters in the grid () function. Let's try it one more time. "
   ]
  },
  {
   "cell_type": "code",
   "execution_count": 32,
   "metadata": {},
   "outputs": [],
   "source": [
    "window = Tk()\n",
    "window.title(\"Contact Us form\")\n",
    "\n",
    "\n",
    "info = Label(window, text = \"Enter your Contact info and we will get back to you\")\n",
    "info.grid(row=0,columnspan=2, padx=10, pady=10)\n",
    "\n",
    "name_label = Label(window, text = \"Name\", anchor=\"w\")\n",
    "nameString = StringVar()   # Define a new StringVar to hold name\n",
    "# Set it as a textvariable param of the Entry function\n",
    "name       = Entry(window, textvariable = nameString)\n",
    "\n",
    "email_label = Label(window, text = \"Email\")\n",
    "emailString = StringVar()  # Define a new StringVar to hold email \n",
    "# Set it as a textvariable param of the Entry function\n",
    "email       = Entry(window, textvariable = emailString)\n",
    "\n",
    "##########################################\n",
    "def submitClicked () :\n",
    "    print (\"name = \",nameString.get())\n",
    "    print (\"email = \", emailString.get())\n",
    "##########################################\n",
    "    \n",
    "submit_button = Button(window, text=\"Submit\", command=submitClicked)\n",
    "\n",
    "name_label.grid(row=1, column=0)\n",
    "name.grid(row=1, column=1, padx=10, pady=10)\n",
    "email_label.grid(row=2, column=0)\n",
    "email.grid(row=2, column=1)\n",
    "submit_button.grid(row=3, columnspan=2, padx=10, pady=10)\n",
    "window.mainloop()"
   ]
  },
  {
   "cell_type": "markdown",
   "metadata": {},
   "source": [
    "<img src=\"./pics/form-3.png\"/>"
   ]
  },
  {
   "cell_type": "markdown",
   "metadata": {},
   "source": [
    "There we go. This appears a bit cleaner than what we originally started with. Let's summarize what we learned so far."
   ]
  },
  {
   "cell_type": "markdown",
   "metadata": {},
   "source": [
    "**Learning**\n",
    "- Understand how **grid ()** function works ( as opposed to pack () )\n",
    "- Understand the **rows** & **columns** system in the grid () function\n",
    "- Understand how to use **columnspan** to span an element across multiple columns\n",
    "- Understand how to use **padx** and **pady** to pad empty pixes along the x and y axes to give additional space and make the form look cleaner. "
   ]
  },
  {
   "cell_type": "markdown",
   "metadata": {},
   "source": [
    "<hr>"
   ]
  },
  {
   "cell_type": "markdown",
   "metadata": {},
   "source": [
    "### Contact Us Form v3"
   ]
  },
  {
   "cell_type": "markdown",
   "metadata": {},
   "source": [
    "Let's enhance the contact us form a bit more by adding more form elements. \n",
    "\n",
    "- Right align labels (By default the text is always centered in a label box)\n",
    "- Add a drop down\n",
    "- Add a checkbox"
   ]
  },
  {
   "cell_type": "markdown",
   "metadata": {},
   "source": [
    "<img src=\"./pics/dropdown.png\"/>"
   ]
  },
  {
   "cell_type": "markdown",
   "metadata": {},
   "source": [
    "Here is how you add a dropdown"
   ]
  },
  {
   "cell_type": "markdown",
   "metadata": {},
   "source": [
    "<pre>\n",
    "why_choice      = StringVar()\n",
    "choices         = { 'Need more info','Business proposal','Need sales contact'}\n",
    "why_choice.set(\"Need more info\")\n",
    "why_label       = Label(window, text=\"Reason\", anchor=\"w\")\n",
    "why_dropdown    = OptionMenu(window, why_choice, *choices)\n",
    "</pre>"
   ]
  },
  {
   "cell_type": "markdown",
   "metadata": {},
   "source": [
    "Here is how to add a checkbox"
   ]
  },
  {
   "cell_type": "markdown",
   "metadata": {},
   "source": [
    "<pre>\n",
    "contact         = IntVar()  \n",
    "contact_checkbox= Checkbutton(window, text=\"Contact me\", variable=contact)\n",
    "</pre>"
   ]
  },
  {
   "cell_type": "markdown",
   "metadata": {},
   "source": [
    "Observe that the checkbox callback variable should be an int variable, not a string (unlike a label or a textbox ). "
   ]
  },
  {
   "cell_type": "code",
   "execution_count": 58,
   "metadata": {},
   "outputs": [],
   "source": [
    "window = Tk()\n",
    "window.title(\"Contact Us form\")\n",
    "\n",
    "\n",
    "info = Label(window, text = \"Enter your Contact info and we will get back to you\")\n",
    "info.grid(row=0,columnspan=2, padx=10, pady=10)\n",
    "\n",
    "name_label = Label(window, text = \"Name\", anchor=\"w\")\n",
    "nameString = StringVar()   # Define a new StringVar to hold name\n",
    "# Set it as a textvariable param of the Entry function\n",
    "name       = Entry(window, textvariable = nameString)\n",
    "\n",
    "email_label = Label(window, text = \"Email\", anchor=\"w\")\n",
    "emailString = StringVar()  # Define a new StringVar to hold email \n",
    "# Set it as a textvariable param of the Entry function\n",
    "email       = Entry(window, textvariable = emailString)\n",
    "\n",
    "# dropdown\n",
    "why_choice      = StringVar()\n",
    "choices         = { 'Need more info','Business proposal','Need sales contact'}\n",
    "why_choice.set(\"Need more info\")\n",
    "why_label       = Label(window, text=\"Reason\", anchor=\"w\")\n",
    "why_dropdown    = OptionMenu(window, why_choice, *choices)\n",
    "\n",
    "# Checkbox\n",
    "contact         = IntVar()  # This should be an int variable, not a string\n",
    "contact_checkbox= Checkbutton(window, text=\"Contact me\", variable=contact)\n",
    "\n",
    "##########################################\n",
    "def submitClicked () :\n",
    "    print (\"name = \",nameString.get())\n",
    "    print (\"email = \", emailString.get())\n",
    "    print (\"choice = \", why_choice.get())\n",
    "    print (\"contact = \", contact.get())\n",
    "##########################################\n",
    "    \n",
    "submit_button = Button(window, text=\"Submit\", command=submitClicked)\n",
    "\n",
    "# Use the sticky option to align labels. The grid system uses North (N) for top, \n",
    "# East (E) for right , West (W) for left and South (S) for bottom.\n",
    "name_label.grid(row=1, column=0, sticky=E)  # Use the sticky option to align labels\n",
    "name.grid(row=1, column=1, padx=10, pady=10)\n",
    "email_label.grid(row=2, column=0, sticky=E)\n",
    "email.grid(row=2, column=1)\n",
    "why_label.grid(row=3,column=0, sticky=E)\n",
    "why_dropdown.grid(row=3,column=1, padx=10,pady=10)\n",
    "contact_checkbox.grid(row=4, column=0, padx=10, pady=10, sticky=E)\n",
    "submit_button.grid(row=5, columnspan=2, padx=10, pady=10)\n",
    "window.mainloop()"
   ]
  },
  {
   "cell_type": "markdown",
   "metadata": {},
   "source": [
    "**Learning**\n",
    "- How to align text labels (right or left) using **sticky** option of grid () function\n",
    "- How to add a checkbox using the **Checkbutton ()** function\n",
    "- How to add a dropdown using the **Optionmenu ()** and provide choices along with default choice selection"
   ]
  },
  {
   "cell_type": "markdown",
   "metadata": {},
   "source": [
    "<hr>"
   ]
  },
  {
   "cell_type": "markdown",
   "metadata": {},
   "source": [
    "### Contact Us Form v4"
   ]
  },
  {
   "cell_type": "markdown",
   "metadata": {},
   "source": [
    "In this version, we will add more elements to the form. Adding more elements requires us to group these entries to make it look clean. We use Frames for that. But, before we do that, say we want to display a message that shows a message after the user submits their contact info. How do we do it ?\n",
    "\n",
    "- As an inline text\n",
    "- As a pop-up\n",
    "\n",
    "We will see both these approaches now. First let's see how to have a simple message on the main window itself. This is basically a variant of the *Label* method. "
   ]
  },
  {
   "cell_type": "code",
   "execution_count": 74,
   "metadata": {},
   "outputs": [],
   "source": [
    "window = Tk()\n",
    "message = Message(window, text = \"We will get back to you\", foreground=\"#0059b3\")\n",
    "message.grid()\n",
    "window.mainloop()"
   ]
  },
  {
   "cell_type": "markdown",
   "metadata": {},
   "source": [
    "<img src=\"./pics/message.png\"/>"
   ]
  },
  {
   "cell_type": "markdown",
   "metadata": {},
   "source": [
    "If you want to do this using a pop-up, you have to use the **Toplevel( )** function, to create a new window on top of the existing window. Look at how we are using the **.destroy()** method on the button in the pop-up window to close the window()."
   ]
  },
  {
   "cell_type": "code",
   "execution_count": 82,
   "metadata": {},
   "outputs": [],
   "source": [
    "window = Tk()\n",
    "submit_button = Button(window, text=\"Submit\", command=submitClicked)\n",
    "submit_button.pack()\n",
    "\n",
    "\n",
    "def submitClicked() :\n",
    "    \n",
    "    # Create a pop-up window\n",
    "    popup = Toplevel()\n",
    "\n",
    "    message = Message(popup, text = \"We will get back to you\")\n",
    "    message.pack()\n",
    "\n",
    "    button = Button(popup, text=\"OK\", command=popup.destroy)\n",
    "    button.pack()  \n",
    "    \n",
    "window.mainloop()"
   ]
  },
  {
   "cell_type": "markdown",
   "metadata": {},
   "source": [
    "First, let's do the inline-approach."
   ]
  },
  {
   "cell_type": "code",
   "execution_count": 2,
   "metadata": {},
   "outputs": [],
   "source": [
    "from tkinter import *\n",
    "window = Tk()\n",
    "window.title(\"Contact Us form\")\n",
    "\n",
    "\n",
    "info = Label(window, text = \"Enter your Contact info and we will get back to you\")\n",
    "info.grid(row=0,columnspan=2, padx=10, pady=10)\n",
    "\n",
    "name_label = Label(window, text = \"Name\", anchor=\"w\")\n",
    "nameString = StringVar()   # Define a new StringVar to hold name\n",
    "# Set it as a textvariable param of the Entry function\n",
    "name       = Entry(window, textvariable = nameString)\n",
    "\n",
    "email_label = Label(window, text = \"Email\", anchor=\"w\")\n",
    "emailString = StringVar()  # Define a new StringVar to hold email \n",
    "# Set it as a textvariable param of the Entry function\n",
    "email       = Entry(window, textvariable = emailString)\n",
    "\n",
    "# dropdown\n",
    "why_choice      = StringVar()\n",
    "choices         = { 'Need more info','Business proposal','Need sales contact'}\n",
    "why_choice.set(\"Need more info\")\n",
    "why_label       = Label(window, text=\"Reason\", anchor=\"w\")\n",
    "why_dropdown    = OptionMenu(window, why_choice, *choices)\n",
    "\n",
    "# Checkbox\n",
    "contact         = IntVar()  # This should be an int variable, not a string\n",
    "contact_checkbox= Checkbutton(window, text=\"Contact me\", variable=contact)\n",
    "\n",
    "##########################################\n",
    "def submitClicked () :\n",
    "    print (\"name = \",nameString.get())\n",
    "    print (\"email = \", emailString.get())\n",
    "    print (\"choice = \", why_choice.get())\n",
    "    print (\"contact = \", contact.get())\n",
    "    message = Message(window, text = \"We will get back to you\", foreground=\"#0059b3\")\n",
    "    message.grid(row=6, columnspan=2, padx=10, pady=10)\n",
    "    \n",
    "    \n",
    "#     popup = Toplevel()\n",
    "#     popup.title(\"Thanks for submitting\")\n",
    "    \n",
    "#     message = Message(popup, text = \"We will get back to you\")\n",
    "#     message.pack(padx=10, pady=10)\n",
    "    \n",
    "#     button = Button(popup, text=\"OK\", command=popup.destroy)\n",
    "#     button.pack(padx=10, pady=10)\n",
    "    \n",
    "##########################################\n",
    "    \n",
    "submit_button = Button(window, text=\"Submit\", command=submitClicked)\n",
    "\n",
    "# Use the sticky option to align labels. The grid system uses North (N) for top, \n",
    "# East (E) for right , West (W) for left and South (S) for bottom.\n",
    "name_label.grid(row=1, column=0, sticky=E)  # Use the sticky option to align labels\n",
    "name.grid(row=1, column=1, padx=10, pady=10)\n",
    "email_label.grid(row=2, column=0, sticky=E)\n",
    "email.grid(row=2, column=1)\n",
    "why_label.grid(row=3,column=0, sticky=E)\n",
    "why_dropdown.grid(row=3,column=1, padx=10,pady=10)\n",
    "contact_checkbox.grid(row=4, column=0, padx=10, pady=10, sticky=E)\n",
    "submit_button.grid(row=5, columnspan=2, padx=10, pady=10)\n",
    "window.mainloop()"
   ]
  },
  {
   "cell_type": "markdown",
   "metadata": {},
   "source": [
    "<img src=\"./pics/inline-approach.png\"/>"
   ]
  },
  {
   "cell_type": "markdown",
   "metadata": {},
   "source": [
    "Now, let's do the pop-up approach."
   ]
  },
  {
   "cell_type": "code",
   "execution_count": 85,
   "metadata": {},
   "outputs": [
    {
     "name": "stdout",
     "output_type": "stream",
     "text": [
      "name =  \n",
      "email =  \n",
      "choice =  Need more info\n",
      "contact =  0\n"
     ]
    }
   ],
   "source": [
    "window = Tk()\n",
    "window.title(\"Contact Us form\")\n",
    "\n",
    "\n",
    "info = Label(window, text = \"Enter your Contact info and we will get back to you\")\n",
    "info.grid(row=0,columnspan=2, padx=10, pady=10)\n",
    "\n",
    "name_label = Label(window, text = \"Name\", anchor=\"w\")\n",
    "nameString = StringVar()   # Define a new StringVar to hold name\n",
    "# Set it as a textvariable param of the Entry function\n",
    "name       = Entry(window, textvariable = nameString)\n",
    "\n",
    "email_label = Label(window, text = \"Email\", anchor=\"w\")\n",
    "emailString = StringVar()  # Define a new StringVar to hold email \n",
    "# Set it as a textvariable param of the Entry function\n",
    "email       = Entry(window, textvariable = emailString)\n",
    "\n",
    "# dropdown\n",
    "why_choice      = StringVar()\n",
    "choices         = { 'Need more info','Business proposal','Need sales contact'}\n",
    "why_choice.set(\"Need more info\")\n",
    "why_label       = Label(window, text=\"Reason\", anchor=\"w\")\n",
    "why_dropdown    = OptionMenu(window, why_choice, *choices)\n",
    "\n",
    "# Checkbox\n",
    "contact         = IntVar()  # This should be an int variable, not a string\n",
    "contact_checkbox= Checkbutton(window, text=\"Contact me\", variable=contact)\n",
    "\n",
    "##########################################\n",
    "def submitClicked () :\n",
    "    print (\"name = \",nameString.get())\n",
    "    print (\"email = \", emailString.get())\n",
    "    print (\"choice = \", why_choice.get())\n",
    "    print (\"contact = \", contact.get())\n",
    "   \n",
    "    \n",
    "    popup = Toplevel()\n",
    "    popup.title(\"Thanks for submitting\")\n",
    "    \n",
    "    message = Message(popup, text = \"We will get back to you\")\n",
    "    message.pack(padx=10, pady=10)\n",
    "    \n",
    "    button = Button(popup, text=\"OK\", command=popup.destroy)\n",
    "    button.pack(padx=10, pady=10)\n",
    "    \n",
    "##########################################\n",
    "    \n",
    "submit_button = Button(window, text=\"Submit\", command=submitClicked)\n",
    "\n",
    "# Use the sticky option to align labels. The grid system uses North (N) for top, \n",
    "# East (E) for right , West (W) for left and South (S) for bottom.\n",
    "name_label.grid(row=1, column=0, sticky=E)  # Use the sticky option to align labels\n",
    "name.grid(row=1, column=1, padx=10, pady=10)\n",
    "email_label.grid(row=2, column=0, sticky=E)\n",
    "email.grid(row=2, column=1)\n",
    "why_label.grid(row=3,column=0, sticky=E)\n",
    "why_dropdown.grid(row=3,column=1, padx=10,pady=10)\n",
    "contact_checkbox.grid(row=4, column=0, padx=10, pady=10, sticky=E)\n",
    "submit_button.grid(row=5, columnspan=2, padx=10, pady=10)\n",
    "window.mainloop()"
   ]
  },
  {
   "cell_type": "markdown",
   "metadata": {},
   "source": [
    "<img src=\"./pics/pop-up-box.png\"/>"
   ]
  },
  {
   "cell_type": "markdown",
   "metadata": {},
   "source": [
    "Now, let's focus on adding more fields and using frames to group logical elements together. "
   ]
  },
  {
   "cell_type": "code",
   "execution_count": 30,
   "metadata": {},
   "outputs": [],
   "source": [
    "window = Tk()\n",
    "window.title(\"Contact Us form\")\n",
    "\n",
    "\n",
    "info = Label(window, text = \"Enter your Contact info and we will get back to you\")\n",
    "info.grid(row=0,columnspan=4, padx=10, pady=10)\n",
    "\n",
    "# first name\n",
    "fname_label = Label(window, text = \"First Name\", anchor=\"w\")\n",
    "fnameString = StringVar()   \n",
    "fname       = Entry(window, textvariable = fnameString)\n",
    "\n",
    "# last name\n",
    "lname_label = Label(window, text = \"Last Name\", anchor=\"w\")\n",
    "lnameString = StringVar()   \n",
    "lname       = Entry(window, textvariable = lnameString)\n",
    "\n",
    "# address\n",
    "address_label = Label(window, text = \"Address\", anchor=\"w\")\n",
    "addressString = StringVar()   \n",
    "address       = Entry(window, textvariable = addressString, width=\"57\")\n",
    "\n",
    "#email\n",
    "email_label = Label(window, text = \"Email\", anchor=\"w\")\n",
    "emailString = StringVar()\n",
    "email       = Entry(window, textvariable = emailString)\n",
    "\n",
    "#phone\n",
    "phone_label = Label(window, text = \"Phone\", anchor=\"w\")\n",
    "phoneString = StringVar()\n",
    "phone       = Entry(window, textvariable = phoneString)\n",
    "\n",
    "# dropdown\n",
    "why_choice      = StringVar()\n",
    "choices         = { 'Need more info','Business proposal','Need sales contact'}\n",
    "why_choice.set(\"Need more info\")\n",
    "why_label       = Label(window, text=\"Reason\", anchor=\"w\")\n",
    "why_dropdown    = OptionMenu(window, why_choice, *choices)\n",
    "\n",
    "# Checkbox\n",
    "contact         = IntVar()  # This should be an int variable, not a string\n",
    "contact_checkbox= Checkbutton(window, text=\"Contact me\", variable=contact)\n",
    "\n",
    "##########################################\n",
    "def submitClicked () :\n",
    "    print (\"name = \",nameString.get())\n",
    "    print (\"email = \", emailString.get())\n",
    "    print (\"choice = \", why_choice.get())\n",
    "    print (\"contact = \", contact.get())\n",
    "   \n",
    "    \n",
    "    popup = Toplevel()\n",
    "    popup.title(\"Thanks for submitting\")\n",
    "    \n",
    "    message = Message(popup, text = \"We will get back to you\")\n",
    "    message.pack(padx=10, pady=10)\n",
    "    \n",
    "    button = Button(popup, text=\"OK\", command=popup.destroy)\n",
    "    button.pack(padx=10, pady=10)\n",
    "    \n",
    "##########################################\n",
    "    \n",
    "submit_button = Button(window, text=\"Submit\", command=submitClicked)\n",
    "\n",
    "fname_label.grid(row=1, column=0, sticky=E) \n",
    "fname.grid(row=1, column=1, padx=10, pady=10)\n",
    "\n",
    "lname_label.grid(row=1, column=2, sticky=E) \n",
    "lname.grid(row=1, column=3, padx=10, pady=10)\n",
    "\n",
    "address_label.grid(row=2, column=0, sticky=E) \n",
    "address.grid(row=2, column=1,columnspan=3,  padx=10, pady=10)\n",
    "\n",
    "email_label.grid(row=3, column=0, sticky=E)\n",
    "email.grid(row=3, column=1)\n",
    "\n",
    "phone_label.grid(row=3, column=2, sticky=E)\n",
    "phone.grid(row=3, column=3)\n",
    "\n",
    "why_label.grid(row=4,column=0, sticky=E)\n",
    "why_dropdown.grid(row=4,column=1, padx=10,pady=10)\n",
    "\n",
    "contact_checkbox.grid(row=5, column=0, padx=10, pady=10, sticky=E)\n",
    "\n",
    "submit_button.grid(row=6, columnspan=2, padx=10, pady=10)\n",
    "\n",
    "window.mainloop()"
   ]
  },
  {
   "cell_type": "markdown",
   "metadata": {},
   "source": [
    "After adding new elements, the form looks a bit crowded. Let's use the **Labelframe( )** widget to make it a bit more organized."
   ]
  },
  {
   "cell_type": "markdown",
   "metadata": {},
   "source": [
    "<img src=\"./pics/crowded-form.png\"/>"
   ]
  },
  {
   "cell_type": "markdown",
   "metadata": {},
   "source": [
    "To use the frame, we bind the elements to the frame (as opposed to the window). Here is what we want to essentially do.\n",
    "\n",
    "<img src=\"./pics/frames.png\"/>"
   ]
  },
  {
   "cell_type": "markdown",
   "metadata": {},
   "source": [
    "This is how we create a simple frame."
   ]
  },
  {
   "cell_type": "code",
   "execution_count": 20,
   "metadata": {},
   "outputs": [],
   "source": [
    "from tkinter import *\n",
    "\n",
    "window = Tk()\n",
    "\n",
    "group = LabelFrame(window, text=\"Group\", padx=5, pady=5)\n",
    "group.pack(padx=10, pady=10)\n",
    "\n",
    "one = Entry(group)\n",
    "two = Entry(group)\n",
    "\n",
    "one.pack()\n",
    "two.pack()\n",
    "\n",
    "mainloop()"
   ]
  },
  {
   "cell_type": "markdown",
   "metadata": {},
   "source": [
    "<img src=\"./pics/group-frame.png\"/>"
   ]
  },
  {
   "cell_type": "markdown",
   "metadata": {},
   "source": [
    "Now, lets rewrite the form with frames."
   ]
  },
  {
   "cell_type": "code",
   "execution_count": 32,
   "metadata": {},
   "outputs": [],
   "source": [
    "from tkinter import *\n",
    "window = Tk()\n",
    "window.title(\"Contact Us form\")\n",
    "\n",
    "\n",
    "info = Label(window, text = \"Enter your Contact info and we will get back to you\")\n",
    "info.grid(row=0,columnspan=4, padx=10, pady=10)\n",
    "\n",
    "# frame_1\n",
    "frame_1 = LabelFrame(window, text=\"Personal details\", padx=5, pady=5)\n",
    "frame_1.grid(row=1, padx=10, pady=10, sticky=W)\n",
    "\n",
    "# first name\n",
    "fname_label = Label(frame_1, text = \"First Name\", anchor=\"w\")\n",
    "fnameString = StringVar()   \n",
    "fname       = Entry(frame_1, textvariable = fnameString)\n",
    "\n",
    "# last name\n",
    "lname_label = Label(frame_1, text = \"Last Name\", anchor=\"w\")\n",
    "lnameString = StringVar()   \n",
    "lname       = Entry(frame_1, textvariable = lnameString)\n",
    "\n",
    "# address\n",
    "address_label = Label(frame_1, text = \"Address\", anchor=\"w\")\n",
    "addressString = StringVar()   \n",
    "address       = Entry(frame_1, textvariable = addressString, width=\"57\")\n",
    "\n",
    "# frame_2\n",
    "frame_2 = LabelFrame(window, text=\"Communication details\", padx=5, pady=5,width=\"60\")\n",
    "frame_2.grid(row=2, padx=10, pady=10, sticky=W)\n",
    "\n",
    "#email\n",
    "email_label = Label(frame_2, text = \"Email\", anchor=\"w\")\n",
    "emailString = StringVar()\n",
    "email       = Entry(frame_2, textvariable = emailString)\n",
    "\n",
    "#phone\n",
    "phone_label = Label(frame_2, text = \"Phone\", anchor=\"w\")\n",
    "phoneString = StringVar()\n",
    "phone       = Entry(frame_2, textvariable = phoneString)\n",
    "\n",
    "# frame_3\n",
    "frame_3 = LabelFrame(window, text=\"Preferences\", padx=5, pady=5)\n",
    "frame_3.grid(row=3, padx=10, pady=10, sticky=W)\n",
    "\n",
    "# dropdown\n",
    "why_choice      = StringVar()\n",
    "choices         = { 'Need more info','Business proposal','Need sales contact'}\n",
    "why_choice.set(\"Need more info\")\n",
    "why_label       = Label(frame_3, text=\"Reason\", anchor=\"w\")\n",
    "why_dropdown    = OptionMenu(frame_3, why_choice, *choices)\n",
    "\n",
    "# Checkbox\n",
    "contact         = IntVar()  # This should be an int variable, not a string\n",
    "contact_checkbox= Checkbutton(frame_3, text=\"Contact me\", variable=contact)\n",
    "\n",
    "##########################################\n",
    "def submitClicked () :\n",
    "    print (\"first name = \",fnameString.get())\n",
    "    print (\"lat name = \",lnameString.get())\n",
    "    print (\"email = \", emailString.get())\n",
    "    print (\"choice = \", why_choice.get())\n",
    "    print (\"contact = \", contact.get())\n",
    "   \n",
    "    \n",
    "    popup = Toplevel()\n",
    "    popup.title(\"Thanks for submitting\")\n",
    "    \n",
    "    message = Message(popup, text = \"We will get back to you\")\n",
    "    message.pack(padx=10, pady=10)\n",
    "    \n",
    "    button = Button(popup, text=\"OK\", command=popup.destroy)\n",
    "    button.pack(padx=10, pady=10)\n",
    "    \n",
    "##########################################\n",
    "    \n",
    "submit_button = Button(window, text=\"Submit\", command=submitClicked)\n",
    "\n",
    "fname_label.grid(row=1, column=0, sticky=E) \n",
    "fname.grid(row=1, column=1, padx=10, pady=10)\n",
    "\n",
    "lname_label.grid(row=1, column=2, sticky=E) \n",
    "lname.grid(row=1, column=3, padx=10, pady=10)\n",
    "\n",
    "address_label.grid(row=2, column=0, sticky=E) \n",
    "address.grid(row=2, column=1,columnspan=3,  padx=10, pady=10)\n",
    "\n",
    "email_label.grid(row=3, column=0,padx=10, pady=10, sticky=E)\n",
    "email.grid(row=3, column=1)\n",
    "\n",
    "phone_label.grid(row=3, column=2,padx=10, pady=10 ,sticky=E)\n",
    "phone.grid(row=3, column=3)\n",
    "\n",
    "why_label.grid(row=4,column=0, sticky=W)\n",
    "why_dropdown.grid(row=4,column=1, padx=10,pady=10, sticky=W)\n",
    "\n",
    "contact_checkbox.grid(row=5, column=0, padx=10, pady=10, sticky=E)\n",
    "\n",
    "submit_button.grid(row=6, columnspan=2, padx=10, pady=10)\n",
    "\n",
    "window.mainloop()"
   ]
  },
  {
   "cell_type": "markdown",
   "metadata": {},
   "source": [
    "<img src=\"./pics/with_frames.png\"/>"
   ]
  },
  {
   "cell_type": "markdown",
   "metadata": {},
   "source": [
    "**Learning**\n",
    "- How to group GUI elements with a frame using **LabelFrame( )**\n",
    "- How to do inline messages to the user using **Message( )**\n",
    "- How to do popup messages to the user using **Message( )** by creating a new pop-up window using **Toplevel()** function\n"
   ]
  },
  {
   "cell_type": "markdown",
   "metadata": {},
   "source": [
    "<hr>"
   ]
  },
  {
   "cell_type": "markdown",
   "metadata": {},
   "source": [
    "### Weather App"
   ]
  },
  {
   "cell_type": "markdown",
   "metadata": {},
   "source": [
    "Let's build a quick weather app that gives the weather details of a particular pin code in India. You can register at https://api.openweathermap.org to get an API token. Once you get that, you can send a web request to access weather information on any pin code in India. "
   ]
  },
  {
   "cell_type": "markdown",
   "metadata": {},
   "source": [
    "<img src=\"./pics/weather-app.png\"/>"
   ]
  },
  {
   "cell_type": "markdown",
   "metadata": {},
   "source": [
    "Here is the code to get the weather data."
   ]
  },
  {
   "cell_type": "code",
   "execution_count": 35,
   "metadata": {},
   "outputs": [
    {
     "name": "stdout",
     "output_type": "stream",
     "text": [
      "https://api.openweathermap.org/data/2.5/weather?appid=37a81ae1e682ac417883b0a3727080a6&zip=500050%2Cin\n",
      "scattered clouds\n",
      "Chandanagar\n",
      "307.58\n"
     ]
    }
   ],
   "source": [
    "import requests\n",
    "import json\n",
    "url = 'https://api.openweathermap.org/data/2.5/weather'\n",
    "\n",
    "params = {\n",
    "    'appid': '37a81ae1e682ac417883b0a3727080a6'\n",
    "}\n",
    "\n",
    "params[\"zip\"] = \"500050\"+\",in\"\n",
    "try:\n",
    "    response = requests.get(url, params=params, timeout=10)\n",
    "    print(response.url)\n",
    "    if response.status_code == 200:\n",
    "        json = response.json()\n",
    "        print ( json[\"weather\"][0][\"description\"] )\n",
    "        print ( json[\"name\"] )\n",
    "        print ( json[\"main\"][\"temp\"] )\n",
    "    else:\n",
    "        print(\"error\")\n",
    "except Exception as e:\n",
    "    print(\"Exception occured ,\", e)\n"
   ]
  },
  {
   "cell_type": "markdown",
   "metadata": {},
   "source": [
    "As part of the weather data, the name of a picture for the corresponding weather situation is also sent. It is a small image that you can get from their website. "
   ]
  },
  {
   "cell_type": "markdown",
   "metadata": {},
   "source": [
    "To render an image from the file system on the GUI, use the **PIL** library. Make sure you do \n",
    "\n",
    "<pre>\n",
    "pip install pillow\n",
    "</pre>"
   ]
  },
  {
   "cell_type": "code",
   "execution_count": 38,
   "metadata": {},
   "outputs": [],
   "source": [
    "from tkinter import *\n",
    "from PIL import Image, ImageTk\n",
    "\n",
    "window = Tk()\n",
    "\n",
    "load = Image.open(\"./pics/weather.png\")\n",
    "render = ImageTk.PhotoImage(load)\n",
    "\n",
    "img = Label(window, image=render)\n",
    "img.grid(row=0, column=0, columnspan=3)\n",
    "\n",
    "window.mainloop()"
   ]
  },
  {
   "cell_type": "markdown",
   "metadata": {},
   "source": [
    "To render an image dynamically, use the requests library to get the picture and embed it using the PIL library."
   ]
  },
  {
   "cell_type": "code",
   "execution_count": 40,
   "metadata": {},
   "outputs": [],
   "source": [
    "from tkinter import *\n",
    "from PIL import Image, ImageTk\n",
    "\n",
    "window = Tk()\n",
    "\n",
    "# Get the image\n",
    "image_url = \"https://openweathermap.org/img/wn/50d@2x.png\"\n",
    "response_img = requests.get(image_url)\n",
    "image_data = response_img.content\n",
    "\n",
    "# make the raw data into an image format that is compatible with tkinter\n",
    "img = ImageTk.PhotoImage(Image.open(BytesIO(image_data)))\n",
    "icon = Label(window, image=img,width=35, height=35)\n",
    "icon.grid(row=4, column=2)\n",
    "\n",
    "window.mainloop()"
   ]
  },
  {
   "cell_type": "markdown",
   "metadata": {},
   "source": [
    "Here is the full code."
   ]
  },
  {
   "cell_type": "code",
   "execution_count": 41,
   "metadata": {},
   "outputs": [],
   "source": [
    "from tkinter import *\n",
    "import requests\n",
    "import json\n",
    "# pip install pillow\n",
    "from PIL import Image, ImageTk\n",
    "from io import BytesIO\n",
    "\n",
    "window = Tk()\n",
    "window.title(\"Weather App\")\n",
    "pincode = StringVar()\n",
    "location = StringVar()\n",
    "temperature = StringVar()\n",
    "description = StringVar()\n",
    "img = None\n",
    "\n",
    "load = Image.open(\"./pics/weather.png\")\n",
    "render = ImageTk.PhotoImage(load)\n",
    "\n",
    "img = Label(window, image=render)\n",
    "img.grid(row=0, column=0, columnspan=3)\n",
    "\n",
    "pincode_label = Label(window, text=\"Pin code\").grid(\n",
    "    row=1, column=0, padx=10, pady=10)\n",
    "pincode_text = Entry(window, textvariable=pincode).grid(\n",
    "    row=1, column=1, padx=10, pady=10, sticky=W)\n",
    "\n",
    "\n",
    "def submitClicked():\n",
    "\n",
    "    pincode_l = pincode.get()\n",
    "    if pincode_l != \"\":\n",
    "        url = 'https://api.openweathermap.org/data/2.5/weather'\n",
    "\n",
    "        params = {\n",
    "            'appid': '37a81ae1e682ac417883b0a3727080a6'\n",
    "        }\n",
    "\n",
    "        params[\"zip\"] = pincode_l+\",in\"\n",
    "        try:\n",
    "            response = requests.get(url, params=params, timeout=10)\n",
    "            print(response.url)\n",
    "            if response.status_code == 200:\n",
    "                global img # check out what happens if you don't make this global\n",
    "                json = response.json()\n",
    "                description.set(json[\"weather\"][0][\"description\"])\n",
    "                location.set(json[\"name\"])\n",
    "                temperature.set(json[\"main\"][\"temp\"])\n",
    "                # Now get the image\n",
    "                image_url = \"https://openweathermap.org/img/wn/\" + \\\n",
    "                    json[\"weather\"][0][\"icon\"]+\".png\"\n",
    "                response_img = requests.get(image_url)\n",
    "                print(response_img.status_code)\n",
    "                print(response_img.url)\n",
    "                image_data = response_img.content\n",
    "                img = ImageTk.PhotoImage(Image.open(BytesIO(image_data)))\n",
    "                icon = Label(window, image=img, bg=\"#C0C0C0\",\n",
    "                             width=35, height=35)\n",
    "                icon.grid(row=4, column=2)\n",
    "\n",
    "            else:\n",
    "                print(\"error\")\n",
    "        except Exception as e:\n",
    "            print(\"Exception occured ,\", e)\n",
    "\n",
    "\n",
    "submit_button = Button(window, text=\"Get weather\", command=submitClicked).grid(\n",
    "    row=1, column=2, padx=10, pady=10)\n",
    "\n",
    "temp_label = Label(window, text=\"Temperature\").grid(\n",
    "    row=2, column=0, padx=10, pady=10)\n",
    "\n",
    "temp = Label(window, text=\"\", textvariable=temperature, font=(\n",
    "    \"courier\", 16), relief=SUNKEN, fg=\"#003333\", bg=\"#00cccc\", width=15).grid(row=2, column=1, padx=10, pady=10, sticky=W)\n",
    "\n",
    "loc_label = Label(window, text=\"Location\").grid(\n",
    "    row=3, column=0, padx=10, pady=10)\n",
    "\n",
    "loc = Label(window, text=\"\", textvariable=location, font=(\n",
    "    \"courier\", 16), relief=SUNKEN, fg=\"#003333\", bg=\"#00cccc\", width=15).grid(row=3, column=1, padx=10, pady=10, sticky=W)\n",
    "\n",
    "desc_label = Label(window, text=\"Description\").grid(\n",
    "    row=4, column=0, padx=10, pady=10)\n",
    "\n",
    "desc = Label(window, text=\"\", textvariable=description, font=(\n",
    "    \"courier\", 16), relief=SUNKEN, fg=\"#003333\", bg=\"#00cccc\", width=15).grid(row=4, column=1, padx=10, pady=10, sticky=W)\n",
    "\n",
    "window.mainloop()"
   ]
  },
  {
   "cell_type": "markdown",
   "metadata": {},
   "source": [
    "**Learning**\n",
    "- How to use web requests to dynamically populate data into GUI elements\n",
    "- How to use the **PIL** library to load images from the file system and apply them to GUI elements\n",
    "- How to request images over the internet and apply them to GUI elements\n",
    "- Understand why some elements like images need to be stored in a global variable. (They need to be available even after they are rendered)"
   ]
  },
  {
   "cell_type": "markdown",
   "metadata": {},
   "source": [
    "<hr>"
   ]
  },
  {
   "cell_type": "markdown",
   "metadata": {},
   "source": [
    "### Stock Quote App"
   ]
  },
  {
   "cell_type": "markdown",
   "metadata": {},
   "source": [
    "#### Challenge\n",
    "Design a stock quote app that fetches the data from a server and displays it on the screen. It should look something like the following picture. \n",
    "\n",
    "- Use the requests library to grab stock quotes\n",
    "- Register at worldtradingdata.com to get an API key\n",
    "- Use URL https://api.worldtradingdata.com/api/v1/stock along with key and symbol to get the stock quote."
   ]
  },
  {
   "cell_type": "markdown",
   "metadata": {},
   "source": [
    "<img src=\"./pics/stock-quote.png\"/>"
   ]
  },
  {
   "cell_type": "code",
   "execution_count": 33,
   "metadata": {},
   "outputs": [
    {
     "name": "stdout",
     "output_type": "stream",
     "text": [
      "submit clicked ABB\n",
      "17.24\n"
     ]
    }
   ],
   "source": [
    "from tkinter import *\n",
    "import requests\n",
    "import json\n",
    "\n",
    "\n",
    "window = Tk()\n",
    "window.title(\"Stock Quote App\")\n",
    "stock_code = StringVar()\n",
    "stock_price = StringVar()\n",
    "\n",
    "main_label = Label(window, text=\"Stock Quotes\", font=(\n",
    "    \"courier\", 36), relief=SUNKEN, fg=\"#003333\", bg=\"#00b3b3\").grid(row=0, column=0, columnspan=3, padx=20, pady=20)\n",
    "\n",
    "stock_ticker_label = Label(window, text=\"Stock code\").grid(\n",
    "    row=1, column=0, padx=10, pady=10)\n",
    "stock_ticker = Entry(window, textvariable=stock_code).grid(\n",
    "    row=1, column=1, padx=10, pady=10, sticky=W)\n",
    "\n",
    "\n",
    "def submitClicked():\n",
    "\n",
    "    stock_code_l = stock_code.get()\n",
    "    if stock_code_l != \"\":\n",
    "\n",
    "        print(\"submit clicked\", stock_code.get())\n",
    "        url = 'https://api.worldtradingdata.com/api/v1/stock'\n",
    "\n",
    "        params = {\n",
    "            'api_token': '2KBRjSLj5bOvtuLxfGBuUBESucoZLTGPSYxbqFgbMAoE7hfKq60xXGpAsCIj'\n",
    "        }\n",
    "\n",
    "        params[\"symbol\"] = stock_code_l\n",
    "        try:\n",
    "            response = requests.request('GET', url, params=params, timeout=10)\n",
    "            if response.status_code == 200:\n",
    "                json = response.json()\n",
    "                stock_price.set(json[\"data\"][0][\"price_open\"])\n",
    "                print(json[\"data\"][0][\"price_open\"])\n",
    "            else:\n",
    "                print(\"error\")\n",
    "        except:\n",
    "            print(\"Exception occured\")\n",
    "\n",
    "\n",
    "submit_button = Button(window, text=\"Get quote\", command=submitClicked).grid(\n",
    "    row=1, column=2, padx=10, pady=10)\n",
    "\n",
    "price_label = Label(window, text=\"Stock Price\").grid(\n",
    "    row=2, column=0, padx=10, pady=10)\n",
    "\n",
    "price = Label(window, text=\"\", textvariable=stock_price, font=(\n",
    "    \"courier\", 16), relief=SUNKEN, fg=\"#003333\", bg=\"#00cccc\", width=5).grid(row=2, column=1, padx=10, pady=10, sticky=W)\n",
    "\n",
    "\n",
    "window.mainloop()"
   ]
  },
  {
   "cell_type": "code",
   "execution_count": null,
   "metadata": {},
   "outputs": [],
   "source": []
  }
 ],
 "metadata": {
  "kernelspec": {
   "display_name": "Python 3",
   "language": "python",
   "name": "python3"
  },
  "language_info": {
   "codemirror_mode": {
    "name": "ipython",
    "version": 3
   },
   "file_extension": ".py",
   "mimetype": "text/x-python",
   "name": "python",
   "nbconvert_exporter": "python",
   "pygments_lexer": "ipython3",
   "version": "3.7.3"
  }
 },
 "nbformat": 4,
 "nbformat_minor": 4
}
