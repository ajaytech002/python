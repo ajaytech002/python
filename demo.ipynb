{
 "cells": [
  {
   "cell_type": "code",
   "execution_count": 23,
   "metadata": {},
   "outputs": [],
   "source": [
    "import re\n",
    "import requests"
   ]
  },
  {
   "cell_type": "code",
   "execution_count": 52,
   "metadata": {},
   "outputs": [],
   "source": [
    "text = \"\"\n",
    "# url='https://en.wikipedia.org/wiki/Category:Telephone_numbers_in_the_United_States'\n",
    "url = \"https://ajaytech.co/contact/\"\n",
    "resp=requests.get(url) \n",
    "\n",
    "if resp.status_code==200: \n",
    "    text = resp.text\n",
    "else :\n",
    "    print ( \"error\")"
   ]
  },
  {
   "cell_type": "code",
   "execution_count": 63,
   "metadata": {},
   "outputs": [],
   "source": [
    "# pat = re.compile(\"1-800-\\d\\d\\d-\\d\\d\\d\\d\") # 1-800 phone numbers\n",
    "pat = re.compile ( r\"[a-z]+@[a-z]+(\\.[a-z]+)\")"
   ]
  },
  {
   "cell_type": "code",
   "execution_count": 65,
   "metadata": {},
   "outputs": [
    {
     "name": "stdout",
     "output_type": "stream",
     "text": [
      ".co\n",
      ".co\n"
     ]
    }
   ],
   "source": [
    "matches = pat.finditer(text)\n",
    "\n",
    "for match in matches : \n",
    "    print ( match.group(1))"
   ]
  },
  {
   "cell_type": "code",
   "execution_count": 89,
   "metadata": {},
   "outputs": [],
   "source": [
    "text = \"aaaaaabbbbbb\"\n",
    "\n",
    "exp = re.compile ( \"ab*\")\n",
    "\n",
    "matches = exp.findall(text)"
   ]
  },
  {
   "cell_type": "code",
   "execution_count": 90,
   "metadata": {},
   "outputs": [
    {
     "name": "stdout",
     "output_type": "stream",
     "text": [
      "a\n",
      "a\n",
      "a\n",
      "a\n",
      "a\n",
      "abbbbbb\n"
     ]
    }
   ],
   "source": [
    "for match in matches : \n",
    "    print ( match)"
   ]
  },
  {
   "cell_type": "code",
   "execution_count": null,
   "metadata": {},
   "outputs": [],
   "source": []
  }
 ],
 "metadata": {
  "kernelspec": {
   "display_name": "Python 3",
   "language": "python",
   "name": "python3"
  },
  "language_info": {
   "codemirror_mode": {
    "name": "ipython",
    "version": 3
   },
   "file_extension": ".py",
   "mimetype": "text/x-python",
   "name": "python",
   "nbconvert_exporter": "python",
   "pygments_lexer": "ipython3",
   "version": "3.7.3"
  }
 },
 "nbformat": 4,
 "nbformat_minor": 4
}
